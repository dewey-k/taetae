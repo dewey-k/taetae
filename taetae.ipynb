{
 "cells": [
  {
   "cell_type": "markdown",
   "id": "b27de13a-377e-409a-985a-b356ed9f5fc4",
   "metadata": {},
   "source": [
    "# 대제목"
   ]
  },
  {
   "cell_type": "markdown",
   "id": "f6192c86-d5a6-4761-9936-023ac0fa3027",
   "metadata": {},
   "source": [
    "## 중간제목"
   ]
  },
  {
   "cell_type": "code",
   "execution_count": 5,
   "id": "5097ccd0-90a9-4e29-bdf9-2f52c336fea7",
   "metadata": {},
   "outputs": [
    {
     "name": "stdout",
     "output_type": "stream",
     "text": [
      "2.1.1\n",
      "2.2.3\n",
      "3.9.2\n",
      "0.13.2\n",
      "1.14.1\n",
      "1.5.2\n"
     ]
    }
   ],
   "source": [
    "import numpy as np\n",
    "import pandas as pd\n",
    "import matplotlib as mp\n",
    "import seaborn as sb\n",
    "import scipy as sp\n",
    "import sklearn as sl\n",
    "\n",
    "print(np.__version__)\n",
    "print(pd.__version__)\n",
    "print(mp.__version__)\n",
    "print(sb.__version__)\n",
    "print(sp.__version__)\n",
    "print(sl.__version__)"
   ]
  },
  {
   "cell_type": "markdown",
   "id": "5c7c4d52-e81d-48e4-bf1f-b57c89f60132",
   "metadata": {},
   "source": [
    "### f 문자열 포매팅 실습"
   ]
  },
  {
   "cell_type": "code",
   "execution_count": 10,
   "id": "4859bb42-64db-474f-90cb-a33aa075f803",
   "metadata": {},
   "outputs": [
    {
     "data": {
      "text/plain": [
       "'삼성라이온즈 최고의 타자는 구자욱 선수입니다. 구자욱 선수는 이번 시즌 홈런을 30개 쳤습니다.'"
      ]
     },
     "execution_count": 10,
     "metadata": {},
     "output_type": "execute_result"
    }
   ],
   "source": [
    "a = \"구자욱\"\n",
    "b = 30\n",
    "\n",
    "f'삼성라이온즈 최고의 타자는 {a} 선수입니다. {a} 선수는 이번 시즌 홈런을 {b}개 쳤습니다.'"
   ]
  },
  {
   "cell_type": "code",
   "execution_count": null,
   "id": "0952db20-d31a-4b1e-b6ef-41e2b3753718",
   "metadata": {},
   "outputs": [],
   "source": []
  }
 ],
 "metadata": {
  "kernelspec": {
   "display_name": "Python 3 (ipykernel)",
   "language": "python",
   "name": "python3"
  },
  "language_info": {
   "codemirror_mode": {
    "name": "ipython",
    "version": 3
   },
   "file_extension": ".py",
   "mimetype": "text/x-python",
   "name": "python",
   "nbconvert_exporter": "python",
   "pygments_lexer": "ipython3",
   "version": "3.12.6"
  }
 },
 "nbformat": 4,
 "nbformat_minor": 5
}
